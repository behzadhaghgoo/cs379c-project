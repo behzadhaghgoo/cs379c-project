{
 "cells": [
  {
   "cell_type": "code",
   "execution_count": null,
   "metadata": {
    "collapsed": true
   },
   "outputs": [],
   "source": [
    "!pip install seaborn==0.9.0"
   ]
  },
  {
   "cell_type": "code",
   "execution_count": 1,
   "metadata": {},
   "outputs": [
    {
     "name": "stderr",
     "output_type": "stream",
     "text": [
      "/Users/megumisano/anaconda/lib/python3.6/importlib/_bootstrap.py:219: ImportWarning: can't resolve package from __spec__ or __package__, falling back on __name__ and __path__\n",
      "  return f(*args, **kwds)\n",
      "/Users/megumisano/anaconda/lib/python3.6/importlib/_bootstrap.py:219: ImportWarning: can't resolve package from __spec__ or __package__, falling back on __name__ and __path__\n",
      "  return f(*args, **kwds)\n"
     ]
    }
   ],
   "source": [
    "import numpy as np\n",
    "import pandas as pd\n",
    "import metadict_save as ms\n",
    "import warnings\n",
    "import pickle \n",
    "warnings.filterwarnings('ignore')\n",
    "\n",
    "import matplotlib.pyplot as plt\n",
    "%matplotlib inline\n",
    "plt.rcParams.update({'font.size': 12})\n",
    "\n",
    "import seaborn as sns\n",
    "sns.set_context('paper')\n",
    "# for auto-reloading extenrnal modules\n",
    "# see http://stackoverflow.com/questions/1907993/autoreload-of-modules-in-ipython\n",
    "%load_ext autoreload\n",
    "%autoreload 2"
   ]
  },
  {
   "cell_type": "code",
   "execution_count": null,
   "metadata": {
    "collapsed": true
   },
   "outputs": [],
   "source": [
    "results_dir = 'results/'"
   ]
  },
  {
   "cell_type": "markdown",
   "metadata": {},
   "source": [
    "### Select results to load"
   ]
  },
  {
   "cell_type": "code",
   "execution_count": 3,
   "metadata": {
    "collapsed": true
   },
   "outputs": [],
   "source": [
    "# Select results to load\n",
    "\n",
    "method = 'PER'\n",
    "var = 1\n",
    "mean = 0\n",
    "decision_eps = 0.5\n",
    "alpha = 0.6\n",
    "beta = 0.4\n",
    "hardcoded = True\n",
    "key = \"method: {}, var: {}, mean: {}, decision_is_uncertain: {}, alpha: {}, beta: {}\".format(method, var, mean, decision_is_uncertain, alpha, beta)\n",
    "csv_path = key + '.csv'\n",
    "df = pd.read_csv(os.path.join(results_dir, csv_path))"
   ]
  },
  {
   "cell_type": "code",
   "execution_count": 4,
   "metadata": {
    "collapsed": true
   },
   "outputs": [],
   "source": [
    "#save_dir = 'results/06-19-11_15:48:20.385065eps=.5var=0/'\n",
    "# meta_dict = pickle.load(open(results_path, 'rb'))\n",
    "# mdf = ms.load(save_dir)\n",
    "# #meta_dict = ms.load(save_dir)\n",
    "\n",
    "#df = mdf[(mdf['method'] == method) & (mdf['var'] == var) \n",
    "         #& (mdf['mean'] == mean) & (mdf['decision_eps'] == decision_eps) \n",
    "         #& (mdf['alpha'] == alpha) & (mdf['beta'] == beta) & (mdf['hardcoded'] == hardcoded)]\n",
    "        \n",
    "        #df = meta_dict[key]"
   ]
  },
  {
   "cell_type": "code",
   "execution_count": null,
   "metadata": {
    "collapsed": true
   },
   "outputs": [],
   "source": [
    "[\"#388ed1\", \"#cc889f\", \"#f4b042\", '#79b298']"
   ]
  },
  {
   "cell_type": "markdown",
   "metadata": {},
   "source": [
    "## Visualize weight ratio"
   ]
  },
  {
   "cell_type": "code",
   "execution_count": null,
   "metadata": {
    "collapsed": true
   },
   "outputs": [],
   "source": [
    "df['noisy_to_std_weight_ratio'] = df['noisy_weights'] / df['std_weights']"
   ]
  },
  {
   "cell_type": "code",
   "execution_count": null,
   "metadata": {
    "collapsed": true
   },
   "outputs": [],
   "source": [
    "# sns.relplot(x='frame', y='noisy_to_std_weight_ratio', kind='line', data=df)\n",
    "plt.figure(figsize=(12,8))\n",
    "sns.lineplot(x='frame', y='noisy_to_std_weight_ratio', data=df, hue='method', estimator='mean')#, palette=palette)"
   ]
  },
  {
   "cell_type": "code",
   "execution_count": null,
   "metadata": {
    "collapsed": true
   },
   "outputs": [],
   "source": []
  },
  {
   "cell_type": "markdown",
   "metadata": {},
   "source": [
    "## Visualize buffer contents"
   ]
  },
  {
   "cell_type": "code",
   "execution_count": null,
   "metadata": {
    "collapsed": true
   },
   "outputs": [],
   "source": [
    "df_subset = df[['frame', 'std_buffer_example_count', 'noisy_buffer_example_count']]\n",
    "df_subset = df_subset.melt('frame', var_name='env_type', value_name='example_count')"
   ]
  },
  {
   "cell_type": "code",
   "execution_count": null,
   "metadata": {
    "collapsed": true
   },
   "outputs": [],
   "source": [
    "# sns.relplot(x='frame', y='example_count', hue='env_type', data=df_subset, kind='line')\n",
    "plt.figure(figsize=(12,8))\n",
    "sns.lineplot(x='frame', y='example_count', data=df_subset, hue='env_type', estimator='mean')#, palette=palette)"
   ]
  },
  {
   "cell_type": "code",
   "execution_count": null,
   "metadata": {
    "collapsed": true
   },
   "outputs": [],
   "source": []
  },
  {
   "cell_type": "markdown",
   "metadata": {},
   "source": [
    "## Plot validation reward"
   ]
  },
  {
   "cell_type": "code",
   "execution_count": null,
   "metadata": {
    "collapsed": true
   },
   "outputs": [],
   "source": [
    "# sns.relplot(x='frame', y='val_reward', kind='line', data=df)\n",
    "plt.figure(figsize=(12,8))\n",
    "sns.lineplot(x='frame', y='val_reward', data=df, hue='method', estimator='mean')"
   ]
  },
  {
   "cell_type": "code",
   "execution_count": null,
   "metadata": {
    "collapsed": true
   },
   "outputs": [],
   "source": []
  },
  {
   "cell_type": "markdown",
   "metadata": {},
   "source": [
    "## Plot proportion of noisy to standard examples selected"
   ]
  },
  {
   "cell_type": "code",
   "execution_count": null,
   "metadata": {
    "collapsed": true
   },
   "outputs": [],
   "source": [
    "# sns.relplot(x='frame', y='proportion', kind='line', data=df)\n",
    "plt.figure(figsize=(12,8))\n",
    "sns.lineplot(x='frame', y='proportion', data=df, hue='method', estimator='mean')"
   ]
  },
  {
   "cell_type": "code",
   "execution_count": null,
   "metadata": {
    "collapsed": true
   },
   "outputs": [],
   "source": []
  },
  {
   "cell_type": "code",
   "execution_count": null,
   "metadata": {
    "collapsed": true
   },
   "outputs": [],
   "source": []
  }
 ],
 "metadata": {
  "kernelspec": {
   "display_name": "Python 3",
   "language": "python",
   "name": "python3"
  },
  "language_info": {
   "codemirror_mode": {
    "name": "ipython",
    "version": 3
   },
   "file_extension": ".py",
   "mimetype": "text/x-python",
   "name": "python",
   "nbconvert_exporter": "python",
   "pygments_lexer": "ipython3",
   "version": "3.6.8"
  }
 },
 "nbformat": 4,
 "nbformat_minor": 2
}
